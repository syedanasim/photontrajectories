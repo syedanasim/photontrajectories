{
 "cells": [
  {
   "cell_type": "code",
   "execution_count": 37,
   "metadata": {},
   "outputs": [],
   "source": [
    "import numpy as np\n",
    "from numpy import pi,cos,sin,arctan,arcsin,arctan2"
   ]
  },
  {
   "cell_type": "code",
   "execution_count": 38,
   "metadata": {},
   "outputs": [],
   "source": [
    "msun=1.989*(10**30) #[kg]\n",
    "\n",
    "def Metric(time,radius,theta,phi,mass,spin):\n",
    "    M=mass\n",
    "    a=spin\n",
    "    delta=(radius**2)-(2*M*radius)+(a**2)\n",
    "    sigma=(radius**2)+((a**2)*(cos(theta)**2))\n",
    "    \n",
    "    gtt=1-((2*M*radius)/sigma)\n",
    "    grr=sigma/delta\n",
    "    gthth=sigma\n",
    "    gphph=((radius**2)+(a**2)+((2*M*(a**2)*radius*(sin(theta)**2))/sigma))*(sin(theta)**2)\n",
    "    \n",
    "    gtph=1\n",
    "    gpht=1\n",
    "    \n",
    "    gtr=0\n",
    "    gtth=0\n",
    "    grt=0\n",
    "    grth=0\n",
    "    grph=0\n",
    "    gtht=0\n",
    "    gthr=0\n",
    "    gthph=0\n",
    "    gphr=0\n",
    "    gphth=0\n",
    "    \n",
    "    matrix=[[[gtt],[gtr],[gtth],[gtph]],\n",
    "            [[grt],[grr],[grth],[grph]],\n",
    "            [[gtht],[gthr],[gthth],[gthph]],\n",
    "            [[gpht],[gphr],[gphth],[gphph]]]\n",
    "    \n",
    "    return matrix"
   ]
  },
  {
   "cell_type": "code",
   "execution_count": 39,
   "metadata": {},
   "outputs": [
    {
     "data": {
      "text/plain": [
       "[[[-3.079122340438351e+31], [0], [0], [1]],\n",
       " [[0], [-3.247678687095095e-32], [0], [0]],\n",
       " [[0], [0], [1.291926581726429], [0]],\n",
       " [[1], [0], [0], [1.5437733038611376e+31]]]"
      ]
     },
     "execution_count": 39,
     "metadata": {},
     "output_type": "execute_result"
    }
   ],
   "source": [
    "Metric(1,1,1,1,10*msun,1)"
   ]
  },
  {
   "cell_type": "code",
   "execution_count": null,
   "metadata": {},
   "outputs": [],
   "source": []
  }
 ],
 "metadata": {
  "kernelspec": {
   "display_name": "Python 3",
   "language": "python",
   "name": "python3"
  },
  "language_info": {
   "codemirror_mode": {
    "name": "ipython",
    "version": 3
   },
   "file_extension": ".py",
   "mimetype": "text/x-python",
   "name": "python",
   "nbconvert_exporter": "python",
   "pygments_lexer": "ipython3",
   "version": "3.8.3"
  }
 },
 "nbformat": 4,
 "nbformat_minor": 4
}
